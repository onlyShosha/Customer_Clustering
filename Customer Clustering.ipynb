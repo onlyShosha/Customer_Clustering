{
 "cells": [
  {
   "cell_type": "markdown",
   "metadata": {},
   "source": [
    "# Costumer Clustering using RFM Analysis in Python\n",
    "\n",
    "Muhammad Faiz Ar <br>\n",
    "April 30 2020"
   ]
  },
  {
   "cell_type": "markdown",
   "metadata": {},
   "source": [
    "## Foreword\n",
    "اَلسَّلَامُ عَلَيْكُمْ وَرَحْمَةُ اللهِ وَبَرَكَا تُهُ and peace be upon you.\n",
    "<br>\n",
    "<p>in this article segmentation of the customer will be done with RFM analysis, before that I want to say my prayers to Rasulullah SAW and gratitude to Allah SWT for making it easier for me to make this article and also an apology to Mr. Luis Noguera for making the same [article](https://rpubs.com/lnoguera/Customer-Segmentation) without asking permission, so I hereby ask for your permission (if you read this article) to use your article as a reference.</p>"
   ]
  },
  {
   "cell_type": "markdown",
   "metadata": {},
   "source": [
    "## Introduction\n",
    "### Basic Theory\n",
    " RFM (Recency, Frequency, Monetary) analysis is a method to identify high-response customers in marketing promotions, and to improve overall response rates, which is well known and is widely applied today. While many marketing approaches are based on demographic characteristics, RFM analysis complements the strategic direction of the campaign with a behavioral component. For this purpose, past buying behavior is examined in more detail: <br>\n",
    " \n",
    " - **Recency** : Recency is an important tool for identifying customers who have bought something recently. Customers who have bought recently have been more likely to react to new offers than customers whose purchases have occurred long ago. This is the most important factor in RFM analysis. <br>\n",
    " - **Frequency** : Frequency of purchases appears after recency. If customers buy more often, the possibility of a positive response is higher than customers who rarely buy something. <br>\n",
    " - **Monetary** : monetary value refers to all purchases made by customers. Customers who spend more money on purchases are more likely to respond to offers than customers who have spent smaller amounts.<br>\n",
    " \n",
    "### Data Introduction and Preprocessing\n",
    "The data used are sales data on online retailing based in the UK and downloaded from [Kaggle.](https://www.kaggle.com/mashlyn/online-retail-ii-uci)"
   ]
  },
  {
   "cell_type": "code",
   "execution_count": 2,
   "metadata": {},
   "outputs": [],
   "source": [
    "# Import Package/library\n",
    "import pandas as pd\n",
    "import datetime as dt\n",
    "import sklearn\n",
    "import matplotlib.pyplot as plt"
   ]
  },
  {
   "cell_type": "code",
   "execution_count": 3,
   "metadata": {
    "scrolled": true
   },
   "outputs": [
    {
     "data": {
      "text/html": [
       "<div>\n",
       "<style scoped>\n",
       "    .dataframe tbody tr th:only-of-type {\n",
       "        vertical-align: middle;\n",
       "    }\n",
       "\n",
       "    .dataframe tbody tr th {\n",
       "        vertical-align: top;\n",
       "    }\n",
       "\n",
       "    .dataframe thead th {\n",
       "        text-align: right;\n",
       "    }\n",
       "</style>\n",
       "<table border=\"1\" class=\"dataframe\">\n",
       "  <thead>\n",
       "    <tr style=\"text-align: right;\">\n",
       "      <th></th>\n",
       "      <th>Invoice</th>\n",
       "      <th>StockCode</th>\n",
       "      <th>Description</th>\n",
       "      <th>Quantity</th>\n",
       "      <th>InvoiceDate</th>\n",
       "      <th>Price</th>\n",
       "      <th>Customer ID</th>\n",
       "      <th>Country</th>\n",
       "    </tr>\n",
       "  </thead>\n",
       "  <tbody>\n",
       "    <tr>\n",
       "      <th>0</th>\n",
       "      <td>489434</td>\n",
       "      <td>85048</td>\n",
       "      <td>15CM CHRISTMAS GLASS BALL 20 LIGHTS</td>\n",
       "      <td>12</td>\n",
       "      <td>2009-12-01 07:45:00</td>\n",
       "      <td>6.95</td>\n",
       "      <td>13085.0</td>\n",
       "      <td>United Kingdom</td>\n",
       "    </tr>\n",
       "    <tr>\n",
       "      <th>1</th>\n",
       "      <td>489434</td>\n",
       "      <td>79323P</td>\n",
       "      <td>PINK CHERRY LIGHTS</td>\n",
       "      <td>12</td>\n",
       "      <td>2009-12-01 07:45:00</td>\n",
       "      <td>6.75</td>\n",
       "      <td>13085.0</td>\n",
       "      <td>United Kingdom</td>\n",
       "    </tr>\n",
       "    <tr>\n",
       "      <th>2</th>\n",
       "      <td>489434</td>\n",
       "      <td>79323W</td>\n",
       "      <td>WHITE CHERRY LIGHTS</td>\n",
       "      <td>12</td>\n",
       "      <td>2009-12-01 07:45:00</td>\n",
       "      <td>6.75</td>\n",
       "      <td>13085.0</td>\n",
       "      <td>United Kingdom</td>\n",
       "    </tr>\n",
       "    <tr>\n",
       "      <th>3</th>\n",
       "      <td>489434</td>\n",
       "      <td>22041</td>\n",
       "      <td>RECORD FRAME 7\" SINGLE SIZE</td>\n",
       "      <td>48</td>\n",
       "      <td>2009-12-01 07:45:00</td>\n",
       "      <td>2.10</td>\n",
       "      <td>13085.0</td>\n",
       "      <td>United Kingdom</td>\n",
       "    </tr>\n",
       "    <tr>\n",
       "      <th>4</th>\n",
       "      <td>489434</td>\n",
       "      <td>21232</td>\n",
       "      <td>STRAWBERRY CERAMIC TRINKET BOX</td>\n",
       "      <td>24</td>\n",
       "      <td>2009-12-01 07:45:00</td>\n",
       "      <td>1.25</td>\n",
       "      <td>13085.0</td>\n",
       "      <td>United Kingdom</td>\n",
       "    </tr>\n",
       "  </tbody>\n",
       "</table>\n",
       "</div>"
      ],
      "text/plain": [
       "  Invoice StockCode                          Description  Quantity  \\\n",
       "0  489434     85048  15CM CHRISTMAS GLASS BALL 20 LIGHTS        12   \n",
       "1  489434    79323P                   PINK CHERRY LIGHTS        12   \n",
       "2  489434    79323W                  WHITE CHERRY LIGHTS        12   \n",
       "3  489434     22041         RECORD FRAME 7\" SINGLE SIZE         48   \n",
       "4  489434     21232       STRAWBERRY CERAMIC TRINKET BOX        24   \n",
       "\n",
       "           InvoiceDate  Price  Customer ID         Country  \n",
       "0  2009-12-01 07:45:00   6.95      13085.0  United Kingdom  \n",
       "1  2009-12-01 07:45:00   6.75      13085.0  United Kingdom  \n",
       "2  2009-12-01 07:45:00   6.75      13085.0  United Kingdom  \n",
       "3  2009-12-01 07:45:00   2.10      13085.0  United Kingdom  \n",
       "4  2009-12-01 07:45:00   1.25      13085.0  United Kingdom  "
      ]
     },
     "execution_count": 3,
     "metadata": {},
     "output_type": "execute_result"
    }
   ],
   "source": [
    "# Import dataset\n",
    "retail = pd.read_csv(\"Dataset/online_retail_II.csv\")\n",
    "retail.head()"
   ]
  },
  {
   "cell_type": "code",
   "execution_count": 4,
   "metadata": {},
   "outputs": [
    {
     "data": {
      "text/plain": [
       "Invoice         object\n",
       "StockCode       object\n",
       "Description     object\n",
       "Quantity         int64\n",
       "InvoiceDate     object\n",
       "Price          float64\n",
       "Customer ID    float64\n",
       "Country         object\n",
       "dtype: object"
      ]
     },
     "execution_count": 4,
     "metadata": {},
     "output_type": "execute_result"
    }
   ],
   "source": [
    "# Check column types dataset\n",
    "retail.dtypes"
   ]
  },
  {
   "cell_type": "code",
   "execution_count": 5,
   "metadata": {
    "scrolled": true
   },
   "outputs": [],
   "source": [
    "# Change column InvoiceDate types\n",
    "retail['InvoiceDate'] = pd.to_datetime(retail['InvoiceDate'])"
   ]
  },
  {
   "cell_type": "code",
   "execution_count": 6,
   "metadata": {},
   "outputs": [
    {
     "data": {
      "text/plain": [
       "Invoice             0\n",
       "StockCode           0\n",
       "Description      4382\n",
       "Quantity            0\n",
       "InvoiceDate         0\n",
       "Price               0\n",
       "Customer ID    243007\n",
       "Country             0\n",
       "dtype: int64"
      ]
     },
     "execution_count": 6,
     "metadata": {},
     "output_type": "execute_result"
    }
   ],
   "source": [
    "# Check NA in each column\n",
    "retail.isnull().sum()"
   ]
  },
  {
   "cell_type": "code",
   "execution_count": 7,
   "metadata": {},
   "outputs": [],
   "source": [
    "# Elimination NA\n",
    "retail = retail.dropna(axis=0, how='any')"
   ]
  },
  {
   "cell_type": "code",
   "execution_count": 8,
   "metadata": {},
   "outputs": [
    {
     "data": {
      "text/plain": [
       "26479"
      ]
     },
     "execution_count": 8,
     "metadata": {},
     "output_type": "execute_result"
    }
   ],
   "source": [
    "# Check duplicated data\n",
    "retail.duplicated().sum()"
   ]
  },
  {
   "cell_type": "code",
   "execution_count": 9,
   "metadata": {},
   "outputs": [],
   "source": [
    "# Elimination duplicated data \n",
    "retail = retail.drop_duplicates(keep= \"first\")"
   ]
  },
  {
   "cell_type": "markdown",
   "metadata": {},
   "source": [
    "## Exploratory Data\n",
    "### Transaction Per Country"
   ]
  },
  {
   "cell_type": "code",
   "execution_count": 10,
   "metadata": {},
   "outputs": [
    {
     "data": {
      "text/html": [
       "<div>\n",
       "<style scoped>\n",
       "    .dataframe tbody tr th:only-of-type {\n",
       "        vertical-align: middle;\n",
       "    }\n",
       "\n",
       "    .dataframe tbody tr th {\n",
       "        vertical-align: top;\n",
       "    }\n",
       "\n",
       "    .dataframe thead th {\n",
       "        text-align: right;\n",
       "    }\n",
       "</style>\n",
       "<table border=\"1\" class=\"dataframe\">\n",
       "  <thead>\n",
       "    <tr style=\"text-align: right;\">\n",
       "      <th>col_0</th>\n",
       "      <th>total</th>\n",
       "    </tr>\n",
       "    <tr>\n",
       "      <th>Country</th>\n",
       "      <th></th>\n",
       "    </tr>\n",
       "  </thead>\n",
       "  <tbody>\n",
       "    <tr>\n",
       "      <th>United Kingdom</th>\n",
       "      <td>716115</td>\n",
       "    </tr>\n",
       "    <tr>\n",
       "      <th>Germany</th>\n",
       "      <td>17339</td>\n",
       "    </tr>\n",
       "    <tr>\n",
       "      <th>EIRE</th>\n",
       "      <td>16014</td>\n",
       "    </tr>\n",
       "    <tr>\n",
       "      <th>France</th>\n",
       "      <td>13897</td>\n",
       "    </tr>\n",
       "    <tr>\n",
       "      <th>Netherlands</th>\n",
       "      <td>5137</td>\n",
       "    </tr>\n",
       "  </tbody>\n",
       "</table>\n",
       "</div>"
      ],
      "text/plain": [
       "col_0            total\n",
       "Country               \n",
       "United Kingdom  716115\n",
       "Germany          17339\n",
       "EIRE             16014\n",
       "France           13897\n",
       "Netherlands       5137"
      ]
     },
     "execution_count": 10,
     "metadata": {},
     "output_type": "execute_result"
    }
   ],
   "source": [
    "pd.crosstab(index=retail['Country'],\n",
    "           columns='total').sort_values('total', ascending=False).head()"
   ]
  },
  {
   "cell_type": "markdown",
   "metadata": {},
   "source": [
    "<p>It can be seen that the transaction data of each country is dominated by the UK even more than other countries. therefore the data to be used is sales data in the UK with sales in 2011 </p>"
   ]
  },
  {
   "cell_type": "code",
   "execution_count": 11,
   "metadata": {},
   "outputs": [],
   "source": [
    "# Filtering\n",
    "uk_retail = retail[(retail['Country']=='United Kingdom') & (retail['InvoiceDate'] > '2010-12-31 23:59:59') ]"
   ]
  },
  {
   "cell_type": "markdown",
   "metadata": {},
   "source": [
    "### Recency\n",
    "<p> As is known, Recency is the time span from the final transaction to the present by the customer buying. in retail data there is only InvoiceDate data that contains the time of customer purchase. so how to find recency ?. what about making a table that contains the time of the last purchase of each customer and also the time of the last purchase in the table</p>\n",
    "<p> will the final purchase data from each customer be added to the current time to get Recency?, of course not, the data used has a vulnerable time of 2009 - 2011 so if it is calculated it will get a very high time vulnerable. the solution is to use the most recent purchase data from all customers and that is why there is a last_invoice column.</p>\n",
    "<P> Next, last_costumer_activity column will be calculated with last_invoice column to get the recency data</p>"
   ]
  },
  {
   "cell_type": "code",
   "execution_count": 12,
   "metadata": {},
   "outputs": [
    {
     "data": {
      "text/html": [
       "<div>\n",
       "<style scoped>\n",
       "    .dataframe tbody tr th:only-of-type {\n",
       "        vertical-align: middle;\n",
       "    }\n",
       "\n",
       "    .dataframe tbody tr th {\n",
       "        vertical-align: top;\n",
       "    }\n",
       "\n",
       "    .dataframe thead th {\n",
       "        text-align: right;\n",
       "    }\n",
       "</style>\n",
       "<table border=\"1\" class=\"dataframe\">\n",
       "  <thead>\n",
       "    <tr style=\"text-align: right;\">\n",
       "      <th>col_0</th>\n",
       "      <th>Customer ID</th>\n",
       "      <th>last_customer_activity</th>\n",
       "      <th>last_invoice</th>\n",
       "      <th>Recency</th>\n",
       "    </tr>\n",
       "  </thead>\n",
       "  <tbody>\n",
       "    <tr>\n",
       "      <th>0</th>\n",
       "      <td>12346.0</td>\n",
       "      <td>2011-01-18 10:17:00</td>\n",
       "      <td>2011-12-09 12:49:00</td>\n",
       "      <td>325</td>\n",
       "    </tr>\n",
       "    <tr>\n",
       "      <th>1</th>\n",
       "      <td>12747.0</td>\n",
       "      <td>2011-12-07 14:34:00</td>\n",
       "      <td>2011-12-09 12:49:00</td>\n",
       "      <td>1</td>\n",
       "    </tr>\n",
       "    <tr>\n",
       "      <th>2</th>\n",
       "      <td>12748.0</td>\n",
       "      <td>2011-12-09 12:20:00</td>\n",
       "      <td>2011-12-09 12:49:00</td>\n",
       "      <td>0</td>\n",
       "    </tr>\n",
       "    <tr>\n",
       "      <th>3</th>\n",
       "      <td>12749.0</td>\n",
       "      <td>2011-12-06 09:56:00</td>\n",
       "      <td>2011-12-09 12:49:00</td>\n",
       "      <td>3</td>\n",
       "    </tr>\n",
       "    <tr>\n",
       "      <th>4</th>\n",
       "      <td>12820.0</td>\n",
       "      <td>2011-12-06 15:12:00</td>\n",
       "      <td>2011-12-09 12:49:00</td>\n",
       "      <td>2</td>\n",
       "    </tr>\n",
       "  </tbody>\n",
       "</table>\n",
       "</div>"
      ],
      "text/plain": [
       "col_0  Customer ID last_customer_activity        last_invoice  Recency\n",
       "0          12346.0    2011-01-18 10:17:00 2011-12-09 12:49:00      325\n",
       "1          12747.0    2011-12-07 14:34:00 2011-12-09 12:49:00        1\n",
       "2          12748.0    2011-12-09 12:20:00 2011-12-09 12:49:00        0\n",
       "3          12749.0    2011-12-06 09:56:00 2011-12-09 12:49:00        3\n",
       "4          12820.0    2011-12-06 15:12:00 2011-12-09 12:49:00        2"
      ]
     },
     "execution_count": 12,
     "metadata": {},
     "output_type": "execute_result"
    }
   ],
   "source": [
    "# Find the time of the last purchase of each customer\n",
    "users_recency = pd.crosstab(index=uk_retail['Customer ID'],\n",
    "                            columns='last_customer_activity',\n",
    "                            values=uk_retail['InvoiceDate'],\n",
    "                            aggfunc=max)\n",
    "\n",
    "# the time of the last purchase in the table\n",
    "users_recency['last_invoice'] = max(users_recency['last_customer_activity'])\n",
    "\n",
    "# Calculated column beteween 'last_invoice' and 'last_customer_activity'\n",
    "users_recency['Recency'] = users_recency['last_invoice'] - users_recency['last_customer_activity']\n",
    "\n",
    "# Change Recency type column, from datetime to interer\n",
    "users_recency['Recency'] = users_recency['Recency'].dt.days.astype('int16')\n",
    "\n",
    "# Reset index\n",
    "users_recency = users_recency.reset_index()\n",
    "\n",
    "users_recency.head()"
   ]
  },
  {
   "cell_type": "code",
   "execution_count": 13,
   "metadata": {},
   "outputs": [
    {
     "data": {
      "text/plain": [
       "count    3835.0\n",
       "mean       83.0\n",
       "std        90.0\n",
       "min         0.0\n",
       "25%        15.0\n",
       "50%        45.0\n",
       "75%       126.0\n",
       "max       339.0\n",
       "Name: Recency, dtype: float64"
      ]
     },
     "execution_count": 13,
     "metadata": {},
     "output_type": "execute_result"
    }
   ],
   "source": [
    "# only need 'customer ID' and 'Recency' columns\n",
    "users_recency = users_recency[['Customer ID','Recency']]\n",
    "\n",
    "# statistical explanation\n",
    "users_recency['Recency'].describe().round()"
   ]
  },
  {
   "cell_type": "markdown",
   "metadata": {},
   "source": [
    "<p>now, recency has been found and can be seen on average from customers bought 45 days ago and the longest customer there were 339 days ago</p>"
   ]
  },
  {
   "cell_type": "markdown",
   "metadata": {},
   "source": [
    "### Frequency\n",
    "<p> Frequency is the total transaction in one time period. now, how to find Frequency ? Because this data is a transaction/purchase, then just go for a total transaction on each costumer</P>"
   ]
  },
  {
   "cell_type": "code",
   "execution_count": 14,
   "metadata": {},
   "outputs": [
    {
     "data": {
      "text/plain": [
       "count    3835.0\n",
       "mean       87.0\n",
       "std       208.0\n",
       "min         1.0\n",
       "25%        16.0\n",
       "50%        40.0\n",
       "75%        96.0\n",
       "max      7522.0\n",
       "Name: Frequency, dtype: float64"
      ]
     },
     "execution_count": 14,
     "metadata": {},
     "output_type": "execute_result"
    }
   ],
   "source": [
    "users_frequency = uk_retail.pivot_table(index='Customer ID',\n",
    "                                        aggfunc='size')\n",
    "\n",
    "users_frequency = users_frequency.reset_index()\n",
    "\n",
    "users_frequency = users_frequency.rename(columns={ 0 : \"Frequency\"})\n",
    "\n",
    "users_frequency['Frequency'].describe().round()"
   ]
  },
  {
   "cell_type": "markdown",
   "metadata": {},
   "source": [
    "<p>The frequency is ready and the summary of the frequency data can be known that minimum customer purchase is one with the average purchase of 40 and the most purchases are 7522</p>"
   ]
  },
  {
   "cell_type": "markdown",
   "metadata": {},
   "source": [
    "### Monetary Value"
   ]
  },
  {
   "cell_type": "markdown",
   "metadata": {},
   "source": [
    "<p> Monetary is the total cost of a customer at all times. so how to find Monetery ?, Easy, create a new column containing the multiplication result from the Quantity and Price column, create a grouping based on the Costumer then summarise the column of the multiplication result from the Quantity and Price columns. </p>"
   ]
  },
  {
   "cell_type": "code",
   "execution_count": 15,
   "metadata": {},
   "outputs": [
    {
     "data": {
      "text/html": [
       "<div>\n",
       "<style scoped>\n",
       "    .dataframe tbody tr th:only-of-type {\n",
       "        vertical-align: middle;\n",
       "    }\n",
       "\n",
       "    .dataframe tbody tr th {\n",
       "        vertical-align: top;\n",
       "    }\n",
       "\n",
       "    .dataframe thead th {\n",
       "        text-align: right;\n",
       "    }\n",
       "</style>\n",
       "<table border=\"1\" class=\"dataframe\">\n",
       "  <thead>\n",
       "    <tr style=\"text-align: right;\">\n",
       "      <th></th>\n",
       "      <th>Customer ID</th>\n",
       "      <th>Quantity</th>\n",
       "      <th>Price</th>\n",
       "    </tr>\n",
       "  </thead>\n",
       "  <tbody>\n",
       "    <tr>\n",
       "      <th>567942</th>\n",
       "      <td>13313.0</td>\n",
       "      <td>10</td>\n",
       "      <td>1.95</td>\n",
       "    </tr>\n",
       "    <tr>\n",
       "      <th>567943</th>\n",
       "      <td>13313.0</td>\n",
       "      <td>25</td>\n",
       "      <td>0.42</td>\n",
       "    </tr>\n",
       "    <tr>\n",
       "      <th>567944</th>\n",
       "      <td>13313.0</td>\n",
       "      <td>25</td>\n",
       "      <td>0.42</td>\n",
       "    </tr>\n",
       "    <tr>\n",
       "      <th>567945</th>\n",
       "      <td>13313.0</td>\n",
       "      <td>5</td>\n",
       "      <td>2.10</td>\n",
       "    </tr>\n",
       "    <tr>\n",
       "      <th>567946</th>\n",
       "      <td>13313.0</td>\n",
       "      <td>10</td>\n",
       "      <td>1.25</td>\n",
       "    </tr>\n",
       "  </tbody>\n",
       "</table>\n",
       "</div>"
      ],
      "text/plain": [
       "        Customer ID  Quantity  Price\n",
       "567942      13313.0        10   1.95\n",
       "567943      13313.0        25   0.42\n",
       "567944      13313.0        25   0.42\n",
       "567945      13313.0         5   2.10\n",
       "567946      13313.0        10   1.25"
      ]
     },
     "execution_count": 15,
     "metadata": {},
     "output_type": "execute_result"
    }
   ],
   "source": [
    "users_monetary = uk_retail[['Customer ID','Quantity','Price']]\n",
    "users_monetary.head()"
   ]
  },
  {
   "cell_type": "code",
   "execution_count": 16,
   "metadata": {},
   "outputs": [
    {
     "name": "stderr",
     "output_type": "stream",
     "text": [
      "C:\\Users\\PIXY\\Anaconda3\\lib\\site-packages\\ipykernel_launcher.py:1: SettingWithCopyWarning: \n",
      "A value is trying to be set on a copy of a slice from a DataFrame.\n",
      "Try using .loc[row_indexer,col_indexer] = value instead\n",
      "\n",
      "See the caveats in the documentation: http://pandas.pydata.org/pandas-docs/stable/indexing.html#indexing-view-versus-copy\n",
      "  \"\"\"Entry point for launching an IPython kernel.\n"
     ]
    }
   ],
   "source": [
    "users_monetary['Monetary'] = pd.DataFrame(users_monetary['Quantity'] * users_monetary['Price'])\n",
    "\n",
    "users_monetary = users_monetary[['Customer ID','Monetary']]\n",
    "\n",
    "users_monetary = pd.crosstab(index=users_monetary['Customer ID'],\n",
    "                 columns='Monetary',\n",
    "                 values=users_monetary['Monetary'],\n",
    "                 aggfunc='sum')\n",
    "\n",
    "users_monetary = users_monetary.reset_index()"
   ]
  },
  {
   "cell_type": "code",
   "execution_count": 17,
   "metadata": {},
   "outputs": [
    {
     "data": {
      "text/plain": [
       "count      3835.0\n",
       "mean       1634.0\n",
       "std        6151.0\n",
       "min       -4288.0\n",
       "25%         276.0\n",
       "50%         614.0\n",
       "75%        1489.0\n",
       "max      228604.0\n",
       "Name: Monetary, dtype: float64"
      ]
     },
     "execution_count": 17,
     "metadata": {},
     "output_type": "execute_result"
    }
   ],
   "source": [
    "users_monetary['Monetary'].describe().round()"
   ]
  },
  {
   "cell_type": "markdown",
   "metadata": {},
   "source": [
    "<p>from the results above it can be seen that the average monetary value in this data is 614 with a max value of 2286094. But there is something odd about the minimum value of -4288, the temporary hypothesis of that value is the return of goods that have been bought from the customer.</p>\n",
    "\n",
    "<p> three required components have been obtained, combining all three into one table. </p>"
   ]
  },
  {
   "cell_type": "code",
   "execution_count": 18,
   "metadata": {},
   "outputs": [
    {
     "data": {
      "text/html": [
       "<div>\n",
       "<style scoped>\n",
       "    .dataframe tbody tr th:only-of-type {\n",
       "        vertical-align: middle;\n",
       "    }\n",
       "\n",
       "    .dataframe tbody tr th {\n",
       "        vertical-align: top;\n",
       "    }\n",
       "\n",
       "    .dataframe thead th {\n",
       "        text-align: right;\n",
       "    }\n",
       "</style>\n",
       "<table border=\"1\" class=\"dataframe\">\n",
       "  <thead>\n",
       "    <tr style=\"text-align: right;\">\n",
       "      <th></th>\n",
       "      <th>Customer ID</th>\n",
       "      <th>Recency</th>\n",
       "      <th>Frequency</th>\n",
       "      <th>Monetary</th>\n",
       "    </tr>\n",
       "  </thead>\n",
       "  <tbody>\n",
       "    <tr>\n",
       "      <th>0</th>\n",
       "      <td>12346.0</td>\n",
       "      <td>325</td>\n",
       "      <td>2</td>\n",
       "      <td>0.00</td>\n",
       "    </tr>\n",
       "    <tr>\n",
       "      <th>1</th>\n",
       "      <td>12747.0</td>\n",
       "      <td>1</td>\n",
       "      <td>88</td>\n",
       "      <td>3489.74</td>\n",
       "    </tr>\n",
       "    <tr>\n",
       "      <th>2</th>\n",
       "      <td>12748.0</td>\n",
       "      <td>0</td>\n",
       "      <td>3805</td>\n",
       "      <td>24271.01</td>\n",
       "    </tr>\n",
       "    <tr>\n",
       "      <th>3</th>\n",
       "      <td>12749.0</td>\n",
       "      <td>3</td>\n",
       "      <td>231</td>\n",
       "      <td>3868.20</td>\n",
       "    </tr>\n",
       "    <tr>\n",
       "      <th>4</th>\n",
       "      <td>12820.0</td>\n",
       "      <td>2</td>\n",
       "      <td>59</td>\n",
       "      <td>942.34</td>\n",
       "    </tr>\n",
       "  </tbody>\n",
       "</table>\n",
       "</div>"
      ],
      "text/plain": [
       "   Customer ID  Recency  Frequency  Monetary\n",
       "0      12346.0      325          2      0.00\n",
       "1      12747.0        1         88   3489.74\n",
       "2      12748.0        0       3805  24271.01\n",
       "3      12749.0        3        231   3868.20\n",
       "4      12820.0        2         59    942.34"
      ]
     },
     "execution_count": 18,
     "metadata": {},
     "output_type": "execute_result"
    }
   ],
   "source": [
    "users_RFM = pd.merge(users_recency, users_frequency, on='Customer ID', how='inner')\n",
    "users_RFM = pd.merge(users_RFM, users_monetary, on='Customer ID', how='inner')\n",
    "\n",
    "users_RFM.head()"
   ]
  },
  {
   "cell_type": "markdown",
   "metadata": {},
   "source": [
    "## Clustering K-Means\n",
    "<p>K-means was chosen as the method to be used in customer clustering with 3 cluster</p>\n",
    "- High Value Customers.\n",
    "- Medium Value Customers.\n",
    "- Low Value Custommers.\n",
    "\n",
    "<p> Cluster determination is based on business needs and monetary value mean issued by each cluster </P>"
   ]
  },
  {
   "cell_type": "code",
   "execution_count": 19,
   "metadata": {},
   "outputs": [],
   "source": [
    "from sklearn.cluster import KMeans"
   ]
  },
  {
   "cell_type": "code",
   "execution_count": 20,
   "metadata": {},
   "outputs": [],
   "source": [
    "# make Kmeans model with 3 cluster\n",
    "rfm_kmeans = KMeans(n_clusters=3, random_state=0).fit(users_RFM[['Recency','Frequency','Monetary']])"
   ]
  },
  {
   "cell_type": "code",
   "execution_count": 21,
   "metadata": {},
   "outputs": [],
   "source": [
    "# make new column contain cluster labels in each 'Costumer ID'\n",
    "users_RFM['Cluster'] = rfm_kmeans.labels_"
   ]
  },
  {
   "cell_type": "code",
   "execution_count": 22,
   "metadata": {},
   "outputs": [
    {
     "data": {
      "text/html": [
       "<div>\n",
       "<style scoped>\n",
       "    .dataframe tbody tr th:only-of-type {\n",
       "        vertical-align: middle;\n",
       "    }\n",
       "\n",
       "    .dataframe tbody tr th {\n",
       "        vertical-align: top;\n",
       "    }\n",
       "\n",
       "    .dataframe thead th {\n",
       "        text-align: right;\n",
       "    }\n",
       "</style>\n",
       "<table border=\"1\" class=\"dataframe\">\n",
       "  <thead>\n",
       "    <tr style=\"text-align: right;\">\n",
       "      <th></th>\n",
       "      <th>Customer ID</th>\n",
       "      <th>Recency</th>\n",
       "      <th>Frequency</th>\n",
       "      <th>Monetary</th>\n",
       "      <th>Cluster</th>\n",
       "    </tr>\n",
       "  </thead>\n",
       "  <tbody>\n",
       "    <tr>\n",
       "      <th>0</th>\n",
       "      <td>12346.0</td>\n",
       "      <td>325</td>\n",
       "      <td>2</td>\n",
       "      <td>0.00</td>\n",
       "      <td>0</td>\n",
       "    </tr>\n",
       "    <tr>\n",
       "      <th>1</th>\n",
       "      <td>12747.0</td>\n",
       "      <td>1</td>\n",
       "      <td>88</td>\n",
       "      <td>3489.74</td>\n",
       "      <td>0</td>\n",
       "    </tr>\n",
       "    <tr>\n",
       "      <th>2</th>\n",
       "      <td>12748.0</td>\n",
       "      <td>0</td>\n",
       "      <td>3805</td>\n",
       "      <td>24271.01</td>\n",
       "      <td>2</td>\n",
       "    </tr>\n",
       "    <tr>\n",
       "      <th>3</th>\n",
       "      <td>12749.0</td>\n",
       "      <td>3</td>\n",
       "      <td>231</td>\n",
       "      <td>3868.20</td>\n",
       "      <td>0</td>\n",
       "    </tr>\n",
       "    <tr>\n",
       "      <th>4</th>\n",
       "      <td>12820.0</td>\n",
       "      <td>2</td>\n",
       "      <td>59</td>\n",
       "      <td>942.34</td>\n",
       "      <td>0</td>\n",
       "    </tr>\n",
       "  </tbody>\n",
       "</table>\n",
       "</div>"
      ],
      "text/plain": [
       "   Customer ID  Recency  Frequency  Monetary  Cluster\n",
       "0      12346.0      325          2      0.00        0\n",
       "1      12747.0        1         88   3489.74        0\n",
       "2      12748.0        0       3805  24271.01        2\n",
       "3      12749.0        3        231   3868.20        0\n",
       "4      12820.0        2         59    942.34        0"
      ]
     },
     "execution_count": 22,
     "metadata": {},
     "output_type": "execute_result"
    }
   ],
   "source": [
    "users_RFM.head()"
   ]
  },
  {
   "cell_type": "code",
   "execution_count": 23,
   "metadata": {},
   "outputs": [],
   "source": [
    "number_users = users_RFM.groupby('Cluster', as_index=False)['Customer ID'].size()\n",
    "\n",
    "number_users = number_users.reset_index()\n",
    "\n",
    "number_users = number_users.rename(columns={ 0 : \"Number of Users\"})"
   ]
  },
  {
   "cell_type": "code",
   "execution_count": 24,
   "metadata": {},
   "outputs": [],
   "source": [
    "kmeans_result = users_RFM.groupby('Cluster', as_index=False)[['Recency','Frequency','Monetary']].mean().round()"
   ]
  },
  {
   "cell_type": "code",
   "execution_count": 25,
   "metadata": {},
   "outputs": [
    {
     "data": {
      "text/html": [
       "<div>\n",
       "<style scoped>\n",
       "    .dataframe tbody tr th:only-of-type {\n",
       "        vertical-align: middle;\n",
       "    }\n",
       "\n",
       "    .dataframe tbody tr th {\n",
       "        vertical-align: top;\n",
       "    }\n",
       "\n",
       "    .dataframe thead th {\n",
       "        text-align: right;\n",
       "    }\n",
       "</style>\n",
       "<table border=\"1\" class=\"dataframe\">\n",
       "  <thead>\n",
       "    <tr style=\"text-align: right;\">\n",
       "      <th></th>\n",
       "      <th>Cluster</th>\n",
       "      <th>Number of Users</th>\n",
       "      <th>Recency mean</th>\n",
       "      <th>Frequency Mean</th>\n",
       "      <th>Monetary mean</th>\n",
       "    </tr>\n",
       "  </thead>\n",
       "  <tbody>\n",
       "    <tr>\n",
       "      <th>0</th>\n",
       "      <td>0</td>\n",
       "      <td>3806</td>\n",
       "      <td>83.0</td>\n",
       "      <td>80.0</td>\n",
       "      <td>1255.0</td>\n",
       "    </tr>\n",
       "    <tr>\n",
       "      <th>1</th>\n",
       "      <td>1</td>\n",
       "      <td>2</td>\n",
       "      <td>4.0</td>\n",
       "      <td>381.0</td>\n",
       "      <td>206949.0</td>\n",
       "    </tr>\n",
       "    <tr>\n",
       "      <th>2</th>\n",
       "      <td>2</td>\n",
       "      <td>27</td>\n",
       "      <td>14.0</td>\n",
       "      <td>1072.0</td>\n",
       "      <td>39822.0</td>\n",
       "    </tr>\n",
       "  </tbody>\n",
       "</table>\n",
       "</div>"
      ],
      "text/plain": [
       "   Cluster  Number of Users  Recency mean  Frequency Mean  Monetary mean\n",
       "0        0             3806          83.0            80.0         1255.0\n",
       "1        1                2           4.0           381.0       206949.0\n",
       "2        2               27          14.0          1072.0        39822.0"
      ]
     },
     "execution_count": 25,
     "metadata": {},
     "output_type": "execute_result"
    }
   ],
   "source": [
    "users_clusters = pd.merge(number_users, kmeans_result, on='Cluster', how='inner')\n",
    "\n",
    "users_clusters = users_clusters.rename(columns={'Recency' : 'Recency mean', 'Frequency' : 'Frequency Mean', 'Monetary' : 'Monetary mean'})\n",
    "\n",
    "users_clusters"
   ]
  },
  {
   "cell_type": "markdown",
   "metadata": {},
   "source": [
    "<p> Based on the table above can defined : </P>\n",
    "<p> - **cluster 0** is identified as a **Low Value Costumers**. can be seen that the monetary value is lower than the others, and also the average purchase frequency and recency is the lowest but the number of customers more than 3,000.</P>\n",
    "<p> - **cluster 2** is identified as a **Medium Value Costumers**. as a cluster with the second highest monetary value, cluster 2 has a tenfold average frequency than cluster 0 with a lower recency and also a total customer is 27.</p>\n",
    "<p> - **cluster 1** is identified as a **High Value Costumers**. cluster with the highest monetary value and the best frequency and recency, but the number of customers is only 2.</p>"
   ]
  },
  {
   "cell_type": "markdown",
   "metadata": {},
   "source": [
    "## Summary\n",
    "<p> RFM Analysis (RFM Analysis) is an empirical method, which relies heavily on data from web analytics, customer relationship management or transactions consisting of (R) recency, (F) frequency and (M) monetary. This analysis will be used to segment consumers by using data that is relevant to the RFM method so that there are no obstacles in processing and searching RFM components. after the components are obtained, then continue clustering using the k-means method with 3 clusters based on business needs. The 3 clusters consist of: 1) Low Value Costumers, total customers 3806; 2) Medium Value Costumers, number of customers 27; 3) High Value Costumers, number of customers 2.</p>\n",
    "\n",
    "<p> From the results of this analysis can be expected to give an overview to management about their customers and also help in future managerial decisions. </p>"
   ]
  },
  {
   "cell_type": "code",
   "execution_count": null,
   "metadata": {},
   "outputs": [],
   "source": []
  }
 ],
 "metadata": {
  "kernelspec": {
   "display_name": "Python 3",
   "language": "python",
   "name": "python3"
  },
  "language_info": {
   "codemirror_mode": {
    "name": "ipython",
    "version": 3
   },
   "file_extension": ".py",
   "mimetype": "text/x-python",
   "name": "python",
   "nbconvert_exporter": "python",
   "pygments_lexer": "ipython3",
   "version": "3.7.6"
  }
 },
 "nbformat": 4,
 "nbformat_minor": 2
}
